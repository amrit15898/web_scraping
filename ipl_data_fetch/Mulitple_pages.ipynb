{
 "cells": [
  {
   "cell_type": "code",
   "execution_count": 56,
   "id": "90aca043-4c98-4734-8c37-99d5c2eae5ea",
   "metadata": {},
   "outputs": [],
   "source": [
    "import requests\n",
    "from bs4 import BeautifulSoup"
   ]
  },
  {
   "cell_type": "code",
   "execution_count": 57,
   "id": "176fd37e-8c7e-43bf-a787-3ea2c51ccd59",
   "metadata": {},
   "outputs": [],
   "source": [
    "url = \"https://www.flipkart.com/search?q=phone+under+50000&otracker=search&otracker1=search&marketplace=FLIPKART&as-show=on&as=off&page=1\""
   ]
  },
  {
   "cell_type": "code",
   "execution_count": 60,
   "id": "bcd07a13-4f18-40e2-8694-563024629dac",
   "metadata": {},
   "outputs": [
    {
     "name": "stdout",
     "output_type": "stream",
     "text": [
      "429\n"
     ]
    }
   ],
   "source": [
    "web = requests.get(url)\n",
    "print(web.status_code)"
   ]
  },
  {
   "cell_type": "code",
   "execution_count": 59,
   "id": "795092b2-1da1-4090-9068-2de5ac53aaef",
   "metadata": {},
   "outputs": [],
   "source": [
    "soup = BeautifulSoup(web.text, \"lxml\")"
   ]
  },
  {
   "cell_type": "code",
   "execution_count": 55,
   "id": "342ca9f7-28c2-435b-be0b-d9b08e96d19a",
   "metadata": {},
   "outputs": [],
   "source": [
    "\n"
   ]
  },
  {
   "cell_type": "code",
   "execution_count": null,
   "id": "cdde803b-36b6-4792-aefc-f6309259735f",
   "metadata": {},
   "outputs": [],
   "source": []
  }
 ],
 "metadata": {
  "kernelspec": {
   "display_name": "Python 3 (ipykernel)",
   "language": "python",
   "name": "python3"
  },
  "language_info": {
   "codemirror_mode": {
    "name": "ipython",
    "version": 3
   },
   "file_extension": ".py",
   "mimetype": "text/x-python",
   "name": "python",
   "nbconvert_exporter": "python",
   "pygments_lexer": "ipython3",
   "version": "3.10.12"
  }
 },
 "nbformat": 4,
 "nbformat_minor": 5
}
