{
 "cells": [
  {
   "cell_type": "code",
   "execution_count": 5,
   "id": "adbbf6ee-7b13-4a8f-9cbd-d55409dc9e2b",
   "metadata": {},
   "outputs": [],
   "source": [
    "import requests\n",
    "from bs4 import BeautifulSoup"
   ]
  },
  {
   "cell_type": "code",
   "execution_count": 6,
   "id": "6a2ee055-0103-4c10-bd8c-48352a39cb05",
   "metadata": {},
   "outputs": [],
   "source": [
    "web = requests.get(\"https://www.tutorialsfreak.com/\")"
   ]
  },
  {
   "cell_type": "code",
   "execution_count": 8,
   "id": "41d7b8ef-16cf-4f94-aedf-b27beb513d69",
   "metadata": {},
   "outputs": [],
   "source": [
    "soup = BeautifulSoup(web.content, \"html.parser\")"
   ]
  },
  {
   "cell_type": "code",
   "execution_count": 10,
   "id": "598cbea3-22dc-46d2-8291-a9e94630b524",
   "metadata": {},
   "outputs": [],
   "source": [
    "all_links = soup.find_all(\"a\")"
   ]
  },
  {
   "cell_type": "code",
   "execution_count": 19,
   "id": "b242328b-da82-4ddd-8965-21efabe1ea79",
   "metadata": {},
   "outputs": [
    {
     "name": "stdout",
     "output_type": "stream",
     "text": [
      "/\n",
      "/search\n",
      "/\n",
      "/\n",
      "/\n",
      "/\n",
      "/\n",
      "/\n",
      "/\n",
      "/\n",
      "/compiler/c\n",
      "/compiler/css\n",
      "/compiler/html\n",
      "/compiler/jquery\n",
      "/compiler/cpp\n",
      "/compiler/php\n",
      "/compiler/python\n",
      "https://bit.ly/web-developer-course-ws\n",
      "https://bit.ly/web-developer-course-ws\n",
      "https://bit.ly/digital-marketing-course-ws\n",
      "https://bit.ly/digital-marketing-course-ws\n",
      "https://bit.ly/seo-course-ws\n",
      "https://bit.ly/seo-course-ws\n",
      "https://www.wscubetech.com/online-python-certification-course-india.html?utm_source=TutorialsFreak&utm_medium=python-tutorial&utm_campaign=leads\n",
      "https://www.wscubetech.com/online-python-certification-course-india.html?utm_source=TutorialsFreak&utm_medium=python-tutorial&utm_campaign=leads\n",
      "https://www.wscubetech.com/online-data-analytics-course.html?utm_source=TutorialsFreak&utm_medium=ai-tutorial&utm_campaign=leads\n",
      "https://www.wscubetech.com/online-data-analytics-course.html?utm_source=TutorialsFreak&utm_medium=ai-tutorial&utm_campaign=leads\n",
      "https://www.wscubetech.com/online-ethical-hacking-course.html?utm_source=TutorialsFreak&utm_medium=eh-tutorial&utm_campaign=leads\n",
      "https://www.wscubetech.com/online-ethical-hacking-course.html?utm_source=TutorialsFreak&utm_medium=eh-tutorial&utm_campaign=leads\n",
      "https://play.google.com/store/apps/details?id=com.tutorialsfreak\n",
      "/\n",
      "https://www.facebook.com/tutorialsfreak\n",
      "https://twitter.com/TutorialsFreak\n",
      "https://www.instagram.com/tutorials_freak/\n",
      "https://www.linkedin.com/company/tutorialsfreak/\n",
      "/terms-conditons\n",
      "/privacy-policy\n",
      "/about-us\n",
      "/contact-us\n",
      "https://www.wscubetech.com/\n"
     ]
    }
   ],
   "source": [
    "for link in all_links:\n",
    "    print(link.get(\"href\"))"
   ]
  },
  {
   "cell_type": "code",
   "execution_count": null,
   "id": "0aa046f8-a39a-46a5-8cf1-65236b924cfa",
   "metadata": {},
   "outputs": [],
   "source": []
  }
 ],
 "metadata": {
  "kernelspec": {
   "display_name": "Python 3 (ipykernel)",
   "language": "python",
   "name": "python3"
  },
  "language_info": {
   "codemirror_mode": {
    "name": "ipython",
    "version": 3
   },
   "file_extension": ".py",
   "mimetype": "text/x-python",
   "name": "python",
   "nbconvert_exporter": "python",
   "pygments_lexer": "ipython3",
   "version": "3.10.12"
  }
 },
 "nbformat": 4,
 "nbformat_minor": 5
}
