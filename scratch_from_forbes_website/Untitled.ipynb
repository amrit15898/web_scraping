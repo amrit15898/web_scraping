{
 "cells": [
  {
   "cell_type": "code",
   "execution_count": 69,
   "id": "fb5759fe-c791-4b7c-9cc7-5c54715cd925",
   "metadata": {},
   "outputs": [],
   "source": [
    "import requests\n",
    "from bs4 import BeautifulSoup\n",
    "import pandas as pd"
   ]
  },
  {
   "cell_type": "code",
   "execution_count": 70,
   "id": "cd22aeb1-041a-444a-a232-a002bfb85f5a",
   "metadata": {},
   "outputs": [],
   "source": [
    "url = \"https://www.forbesindia.com/article/explainers/highestgrossing-films-worldwide/93665/1\"\n",
    "web = requests.get(url)"
   ]
  },
  {
   "cell_type": "code",
   "execution_count": 71,
   "id": "f8ca3ae1-8fc3-426f-b654-52eb51b7e8a6",
   "metadata": {},
   "outputs": [
    {
     "data": {
      "text/plain": [
       "200"
      ]
     },
     "execution_count": 71,
     "metadata": {},
     "output_type": "execute_result"
    }
   ],
   "source": [
    "web.status_code"
   ]
  },
  {
   "cell_type": "code",
   "execution_count": 72,
   "id": "9dfe4688-893b-45e7-9ce9-9a2951541c3c",
   "metadata": {},
   "outputs": [],
   "source": [
    "soup = BeautifulSoup(web.content, \"html.parser\")"
   ]
  },
  {
   "cell_type": "code",
   "execution_count": 73,
   "id": "34d325e9-26d2-42f2-aca6-1ec3cdc3d14b",
   "metadata": {},
   "outputs": [],
   "source": [
    "hadings = soup.find(\"thead\")"
   ]
  },
  {
   "cell_type": "code",
   "execution_count": 74,
   "id": "f3f1746c-c9e5-4d2a-83bf-c44922f3662f",
   "metadata": {},
   "outputs": [
    {
     "data": {
      "text/plain": [
       "<thead>\n",
       "<tr>\n",
       "<th style=\"border: 1px solid black; padding: 8px;\"><strong>Movie name</strong></th>\n",
       "<th style=\"border: 1px solid black; padding: 8px;\"><strong>Year of release</strong></th>\n",
       "<th style=\"border: 1px solid black; padding: 8px;\"><strong>Worldwide lifetime gross (in $)</strong></th>\n",
       "</tr>\n",
       "</thead>"
      ]
     },
     "execution_count": 74,
     "metadata": {},
     "output_type": "execute_result"
    }
   ],
   "source": [
    "hadings"
   ]
  },
  {
   "cell_type": "code",
   "execution_count": 75,
   "id": "8e91c95e-d119-483a-ae09-4c77a1a44949",
   "metadata": {},
   "outputs": [],
   "source": [
    "headings = hadings.find(\"tr\")"
   ]
  },
  {
   "cell_type": "code",
   "execution_count": 76,
   "id": "cea8fc28-8c45-46b8-b28f-93e1a4fa85fd",
   "metadata": {},
   "outputs": [
    {
     "data": {
      "text/plain": [
       "<tr>\n",
       "<th style=\"border: 1px solid black; padding: 8px;\"><strong>Movie name</strong></th>\n",
       "<th style=\"border: 1px solid black; padding: 8px;\"><strong>Year of release</strong></th>\n",
       "<th style=\"border: 1px solid black; padding: 8px;\"><strong>Worldwide lifetime gross (in $)</strong></th>\n",
       "</tr>"
      ]
     },
     "execution_count": 76,
     "metadata": {},
     "output_type": "execute_result"
    }
   ],
   "source": [
    "headings"
   ]
  },
  {
   "cell_type": "code",
   "execution_count": 77,
   "id": "154f4dc9-119b-4e07-8fdf-544a5d2fdb38",
   "metadata": {},
   "outputs": [],
   "source": [
    "titles = headings.find_all(\"th\")"
   ]
  },
  {
   "cell_type": "code",
   "execution_count": 78,
   "id": "ad870191-a025-4cd6-b77c-6c338ae99506",
   "metadata": {},
   "outputs": [
    {
     "data": {
      "text/plain": [
       "[<th style=\"border: 1px solid black; padding: 8px;\"><strong>Movie name</strong></th>,\n",
       " <th style=\"border: 1px solid black; padding: 8px;\"><strong>Year of release</strong></th>,\n",
       " <th style=\"border: 1px solid black; padding: 8px;\"><strong>Worldwide lifetime gross (in $)</strong></th>]"
      ]
     },
     "execution_count": 78,
     "metadata": {},
     "output_type": "execute_result"
    }
   ],
   "source": [
    "titles"
   ]
  },
  {
   "cell_type": "code",
   "execution_count": 79,
   "id": "1e891983-f5ee-4725-baeb-cf451f559aa0",
   "metadata": {},
   "outputs": [],
   "source": [
    "titles = [i.text for i in titles]"
   ]
  },
  {
   "cell_type": "code",
   "execution_count": 80,
   "id": "7f8abf76-450f-44a7-8dc1-0863e3f6a45a",
   "metadata": {},
   "outputs": [],
   "source": [
    "df = pd.DataFrame(columns = titles)"
   ]
  },
  {
   "cell_type": "code",
   "execution_count": 81,
   "id": "5bbfe180-c8a3-4ed0-98a1-2433e4c65c59",
   "metadata": {},
   "outputs": [
    {
     "data": {
      "text/html": [
       "<div>\n",
       "<style scoped>\n",
       "    .dataframe tbody tr th:only-of-type {\n",
       "        vertical-align: middle;\n",
       "    }\n",
       "\n",
       "    .dataframe tbody tr th {\n",
       "        vertical-align: top;\n",
       "    }\n",
       "\n",
       "    .dataframe thead th {\n",
       "        text-align: right;\n",
       "    }\n",
       "</style>\n",
       "<table border=\"1\" class=\"dataframe\">\n",
       "  <thead>\n",
       "    <tr style=\"text-align: right;\">\n",
       "      <th></th>\n",
       "      <th>Movie name</th>\n",
       "      <th>Year of release</th>\n",
       "      <th>Worldwide lifetime gross (in $)</th>\n",
       "    </tr>\n",
       "  </thead>\n",
       "  <tbody>\n",
       "  </tbody>\n",
       "</table>\n",
       "</div>"
      ],
      "text/plain": [
       "Empty DataFrame\n",
       "Columns: [Movie name, Year of release, Worldwide lifetime gross (in $)]\n",
       "Index: []"
      ]
     },
     "execution_count": 81,
     "metadata": {},
     "output_type": "execute_result"
    }
   ],
   "source": [
    "df"
   ]
  },
  {
   "cell_type": "code",
   "execution_count": 82,
   "id": "08eb05a4-ba41-4715-a123-8a584c787097",
   "metadata": {},
   "outputs": [],
   "source": [
    "all_tr = soup.find_all(\"tr\")"
   ]
  },
  {
   "cell_type": "code",
   "execution_count": 83,
   "id": "c1cb1c69-fb2a-442d-8e13-163ecea1ab57",
   "metadata": {},
   "outputs": [
    {
     "data": {
      "text/plain": [
       "[<tr>\n",
       " <th style=\"border: 1px solid black; padding: 8px;\"><strong>Movie name</strong></th>\n",
       " <th style=\"border: 1px solid black; padding: 8px;\"><strong>Year of release</strong></th>\n",
       " <th style=\"border: 1px solid black; padding: 8px;\"><strong>Worldwide lifetime gross (in $)</strong></th>\n",
       " </tr>,\n",
       " <tr>\n",
       " <td style=\"border: 1px solid black; padding: 8px;\">Avatar</td>\n",
       " <td style=\"border: 1px solid black; padding: 8px;\">2009</td>\n",
       " <td style=\"border: 1px solid black; padding: 8px;\">2,923,706,026</td>\n",
       " </tr>,\n",
       " <tr>\n",
       " <td style=\"border: 1px solid black; padding: 8px;\">Avengers: Endgame</td>\n",
       " <td style=\"border: 1px solid black; padding: 8px;\">2019</td>\n",
       " <td style=\"border: 1px solid black; padding: 8px;\">2,799,439,100</td>\n",
       " </tr>,\n",
       " <tr>\n",
       " <td style=\"border: 1px solid black; padding: 8px;\">Avatar: The Way of Water</td>\n",
       " <td style=\"border: 1px solid black; padding: 8px;\">2022</td>\n",
       " <td style=\"border: 1px solid black; padding: 8px;\">2,320,250,281</td>\n",
       " </tr>,\n",
       " <tr>\n",
       " <td style=\"border: 1px solid black; padding: 8px;\">Titanic</td>\n",
       " <td style=\"border: 1px solid black; padding: 8px;\">1997</td>\n",
       " <td style=\"border: 1px solid black; padding: 8px;\">2,264,750,694</td>\n",
       " </tr>,\n",
       " <tr>\n",
       " <td style=\"border: 1px solid black; padding: 8px;\">Star Wars: Episode VII - The Force Awakens</td>\n",
       " <td style=\"border: 1px solid black; padding: 8px;\">2015</td>\n",
       " <td style=\"border: 1px solid black; padding: 8px;\">2,071,310,218</td>\n",
       " </tr>,\n",
       " <tr>\n",
       " <td style=\"border: 1px solid black; padding: 8px;\">Avengers: Infinity War</td>\n",
       " <td style=\"border: 1px solid black; padding: 8px;\">2018</td>\n",
       " <td style=\"border: 1px solid black; padding: 8px;\">2,052,415,039</td>\n",
       " </tr>,\n",
       " <tr>\n",
       " <td style=\"border: 1px solid black; padding: 8px;\">Spider-Man: No Way Home</td>\n",
       " <td style=\"border: 1px solid black; padding: 8px;\">2021</td>\n",
       " <td style=\"border: 1px solid black; padding: 8px;\">1,922,598,800</td>\n",
       " </tr>,\n",
       " <tr>\n",
       " <td style=\"border: 1px solid black; padding: 8px;\">Jurassic World</td>\n",
       " <td style=\"border: 1px solid black; padding: 8px;\">2015</td>\n",
       " <td style=\"border: 1px solid black; padding: 8px;\">1,671,537,444</td>\n",
       " </tr>,\n",
       " <tr>\n",
       " <td style=\"border: 1px solid black; padding: 8px;\">The Lion King</td>\n",
       " <td style=\"border: 1px solid black; padding: 8px;\">2019</td>\n",
       " <td style=\"border: 1px solid black; padding: 8px;\">1,663,079,059</td>\n",
       " </tr>,\n",
       " <tr>\n",
       " <td style=\"border: 1px solid black; padding: 8px;\">The Avengers</td>\n",
       " <td style=\"border: 1px solid black; padding: 8px;\">2012</td>\n",
       " <td style=\"border: 1px solid black; padding: 8px;\">1,520,538,536</td>\n",
       " </tr>]"
      ]
     },
     "execution_count": 83,
     "metadata": {},
     "output_type": "execute_result"
    }
   ],
   "source": [
    "all_tr"
   ]
  },
  {
   "cell_type": "code",
   "execution_count": 84,
   "id": "10938ab9-1211-4e94-ad5b-caed717aca8c",
   "metadata": {},
   "outputs": [],
   "source": [
    "for i in all_tr[1:]:\n",
    "    data = i.find_all(\"td\")\n",
    "    row = [i.text for i in data]\n",
    "    l = len(df)\n",
    "    df.loc[l] = row"
   ]
  },
  {
   "cell_type": "code",
   "execution_count": 86,
   "id": "9c7ffeb8-8a04-4642-86cd-458bc3f496c9",
   "metadata": {},
   "outputs": [
    {
     "data": {
      "text/html": [
       "<div>\n",
       "<style scoped>\n",
       "    .dataframe tbody tr th:only-of-type {\n",
       "        vertical-align: middle;\n",
       "    }\n",
       "\n",
       "    .dataframe tbody tr th {\n",
       "        vertical-align: top;\n",
       "    }\n",
       "\n",
       "    .dataframe thead th {\n",
       "        text-align: right;\n",
       "    }\n",
       "</style>\n",
       "<table border=\"1\" class=\"dataframe\">\n",
       "  <thead>\n",
       "    <tr style=\"text-align: right;\">\n",
       "      <th></th>\n",
       "      <th>Movie name</th>\n",
       "      <th>Year of release</th>\n",
       "      <th>Worldwide lifetime gross (in $)</th>\n",
       "    </tr>\n",
       "  </thead>\n",
       "  <tbody>\n",
       "    <tr>\n",
       "      <th>0</th>\n",
       "      <td>Avatar</td>\n",
       "      <td>2009</td>\n",
       "      <td>2,923,706,026</td>\n",
       "    </tr>\n",
       "    <tr>\n",
       "      <th>1</th>\n",
       "      <td>Avengers: Endgame</td>\n",
       "      <td>2019</td>\n",
       "      <td>2,799,439,100</td>\n",
       "    </tr>\n",
       "    <tr>\n",
       "      <th>2</th>\n",
       "      <td>Avatar: The Way of Water</td>\n",
       "      <td>2022</td>\n",
       "      <td>2,320,250,281</td>\n",
       "    </tr>\n",
       "    <tr>\n",
       "      <th>3</th>\n",
       "      <td>Titanic</td>\n",
       "      <td>1997</td>\n",
       "      <td>2,264,750,694</td>\n",
       "    </tr>\n",
       "    <tr>\n",
       "      <th>4</th>\n",
       "      <td>Star Wars: Episode VII - The Force Awakens</td>\n",
       "      <td>2015</td>\n",
       "      <td>2,071,310,218</td>\n",
       "    </tr>\n",
       "    <tr>\n",
       "      <th>5</th>\n",
       "      <td>Avengers: Infinity War</td>\n",
       "      <td>2018</td>\n",
       "      <td>2,052,415,039</td>\n",
       "    </tr>\n",
       "    <tr>\n",
       "      <th>6</th>\n",
       "      <td>Spider-Man: No Way Home</td>\n",
       "      <td>2021</td>\n",
       "      <td>1,922,598,800</td>\n",
       "    </tr>\n",
       "    <tr>\n",
       "      <th>7</th>\n",
       "      <td>Jurassic World</td>\n",
       "      <td>2015</td>\n",
       "      <td>1,671,537,444</td>\n",
       "    </tr>\n",
       "    <tr>\n",
       "      <th>8</th>\n",
       "      <td>The Lion King</td>\n",
       "      <td>2019</td>\n",
       "      <td>1,663,079,059</td>\n",
       "    </tr>\n",
       "    <tr>\n",
       "      <th>9</th>\n",
       "      <td>The Avengers</td>\n",
       "      <td>2012</td>\n",
       "      <td>1,520,538,536</td>\n",
       "    </tr>\n",
       "  </tbody>\n",
       "</table>\n",
       "</div>"
      ],
      "text/plain": [
       "                                   Movie name Year of release  \\\n",
       "0                                      Avatar            2009   \n",
       "1                           Avengers: Endgame            2019   \n",
       "2                    Avatar: The Way of Water            2022   \n",
       "3                                     Titanic            1997   \n",
       "4  Star Wars: Episode VII - The Force Awakens            2015   \n",
       "5                      Avengers: Infinity War            2018   \n",
       "6                     Spider-Man: No Way Home            2021   \n",
       "7                              Jurassic World            2015   \n",
       "8                               The Lion King            2019   \n",
       "9                                The Avengers            2012   \n",
       "\n",
       "  Worldwide lifetime gross (in $)  \n",
       "0                   2,923,706,026  \n",
       "1                   2,799,439,100  \n",
       "2                   2,320,250,281  \n",
       "3                   2,264,750,694  \n",
       "4                   2,071,310,218  \n",
       "5                   2,052,415,039  \n",
       "6                   1,922,598,800  \n",
       "7                   1,671,537,444  \n",
       "8                   1,663,079,059  \n",
       "9                   1,520,538,536  "
      ]
     },
     "execution_count": 86,
     "metadata": {},
     "output_type": "execute_result"
    }
   ],
   "source": [
    "df"
   ]
  },
  {
   "cell_type": "code",
   "execution_count": 87,
   "id": "6524b2ac-e3f4-4b37-bd02-9e6c05b578d0",
   "metadata": {},
   "outputs": [],
   "source": [
    "df.to_csv(\"top10movies.csv\")"
   ]
  },
  {
   "cell_type": "code",
   "execution_count": null,
   "id": "72588d7f-bda3-437f-875e-c7f591b82d0d",
   "metadata": {},
   "outputs": [],
   "source": []
  }
 ],
 "metadata": {
  "kernelspec": {
   "display_name": "Python 3 (ipykernel)",
   "language": "python",
   "name": "python3"
  },
  "language_info": {
   "codemirror_mode": {
    "name": "ipython",
    "version": 3
   },
   "file_extension": ".py",
   "mimetype": "text/x-python",
   "name": "python",
   "nbconvert_exporter": "python",
   "pygments_lexer": "ipython3",
   "version": "3.10.12"
  }
 },
 "nbformat": 4,
 "nbformat_minor": 5
}
